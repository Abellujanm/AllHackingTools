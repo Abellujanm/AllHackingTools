{
  "cells": [
    {
      "cell_type": "markdown",
      "metadata": {
        "id": "Tce3stUlHN0L"
      },
      "source": [
        "##### Copyright 2023 Google LLC"
      ]
    },
    {
      "cell_type": "code",
      "execution_count": 1,
      "metadata": {
        "id": "tuOe1ymfHZPu"
      },
      "outputs": [],
      "source": [
        "# @title Licensed under the Apache License, Version 2.0 (the \"License\");\n",
        "# you may not use this file except in compliance with the License.\n",
        "# You may obtain a copy of the License at\n",
        "#\n",
        "# https://www.apache.org/licenses/LICENSE-2.0\n",
        "#\n",
        "# Unless required by applicable law or agreed to in writing, software\n",
        "# distributed under the License is distributed on an \"AS IS\" BASIS,\n",
        "# WITHOUT WARRANTIES OR CONDITIONS OF ANY KIND, either express or implied.\n",
        "# See the License for the specific language governing permissions and\n",
        "# limitations under the License."
      ]
    },
    {
      "cell_type": "code",
      "source": [],
      "metadata": {
        "id": "Sox1NyZrkJFP"
      },
      "execution_count": null,
      "outputs": []
    },
    {
      "cell_type": "markdown",
      "metadata": {
        "id": "FKwyTRdwB8aW"
      },
      "source": [
        "## Setup"
      ]
    },
    {
      "cell_type": "code",
      "execution_count": null,
      "metadata": {
        "id": "RXInneX6xx7c"
      },
      "outputs": [],
      "source": [
        "!pip install -U -q \"google-generativeai>=0.8.2\""
      ]
    },
    {
      "cell_type": "code",
      "execution_count": 2,
      "metadata": {
        "id": "kWIuwKG2_oWE",
        "colab": {
          "base_uri": "https://localhost:8080/"
        },
        "outputId": "d3211cbb-bee2-4ff6-8969-74ade79f1cd4"
      },
      "outputs": [
        {
          "output_type": "stream",
          "name": "stdout",
          "text": [
            "[\n",
            "    {\n",
            "        \"role\": \"user\",\n",
            "        \"parts\": [\n",
            "            {\n",
            "                \"text\": \"You are an expert regex string creator and understand how regex works. Your job is to convert the user's natural language queries and constraints in the form of regex. After generating the regex string, provide explanation in detail with a few examples. Then demonstrate its use in a python code.\\\\n\\\\nUser query:\\\\nGive me the regex equivalent of the following:\\\\nMy requirements are:\\\\n1. I want my string to have 2-63 characters.\\\\n2. The string should be alphanumeric and can contain - also.\\\\n3. The string must start as well as end with alphanumeric characters only.\"\n",
            "            },\n",
            "            {\n",
            "                \"text\": \"#!$\\\\n\"\n",
            "            }\n",
            "        ]\n",
            "    },\n",
            "    {\n",
            "        \"role\": \"model\",\n",
            "        \"parts\": [\n",
            "            {\n",
            "                \"text\": \"## Regex for User's Requirements\\\\n\\\\nHere's the regex string based on the user's requirements:\\\\n\\\\n```regex\\\\n^[a-zA-Z0-9]{2,63}[a-zA-Z0-9]$\\\\n```\\\\n\\\\n### Explanation:\\\\n\\\\n1. **`^`**: This anchors the regex to the beginning of the string. This ensures the pattern matches only if it starts at the beginning.\\\\n\\\\n2. **`[a-zA-Z0-9]`**: This character class matches any alphanumeric character - both uppercase and lowercase letters, as well as numbers.\\\\n\\\\n3. **`{2,63}`**: This quantifier specifies that the preceding character class (`[a-zA-Z0-9]`) must occur between 2 and 63 times (inclusive).\\\\n\\\\n4. **`[a-zA-Z0-9]`**: This character class is again used to match an alphanumeric character. This part ensures the string ends with an alphanumeric character.\\\\n\\\\n5. **`$`**: This anchors the regex to the end of the string. It ensures the pattern matches only if it ends at the end of the input string.\\\\n\\\\n### Examples:\\\\n\\\\n| Input String | Matches | Explanation |\\\\n|---|---|---|\\\\n| **abc123** | \\u2705 | Matches - 6 alphanumeric characters, starts and ends with alphanumeric characters. |\\\\n| **Hello_world** | \\u274c | Doesn't match - Contains an underscore character (`_`) which is not allowed. |\\\\n| **a** | \\u274c | Doesn't match - String is less than 2 characters long. |\\\\n| **1234567890123456789012345678901234567890** | \\u274c | Doesn't match - String is longer than 63 characters. |\\\\n| **123-abc** | \\u274c | Doesn't match - Although within length range and containing allowed characters, it ends with `-` which is not allowed. |\\\\n\\\\n\\\\n### Python Code:\\\\n\\\\n```python\\\\nimport re\\\\n\\\\nregex_pattern = r\\\\\\\"^[a-zA-Z0-9]{2,63}[a-zA-Z0-9]$\\\\\\\"\\\\n\\\\ntest_strings = [\\\\\\\"abc123\\\\\\\", \\\\\\\"Hello_world\\\\\\\", \\\\\\\"a\\\\\\\", \\\\\\\"1234567890123456789012345678901234567890\\\\\\\", \\\\\\\"123-abc\\\\\\\", \\\\\\\"abc123-xyz\\\\\\\", \\\\\\\"abC123\\\\\\\"]\\\\n\\\\nfor string in test_strings:\\\\n  match = re.match(regex_pattern, string)\\\\n  if match:\\\\n    print(f\\\\\\\"'{string}' - Matches!\\\\\\\")\\\\n  else:\\\\n    print(f\\\\\\\"'{string}' - Doesn't Match\\\\\\\")\\\\n```\\\\n\\\\nThis code iterates through a list of strings and uses the `re.match` function to check if each string matches the defined regex pattern. The result is printed for each string, indicating whether it matched or not. \\\\n\"\n",
            "            }\n",
            "        ]\n",
            "    }\n",
            "]\n"
          ]
        }
      ],
      "source": [
        "# import necessary modules.\n",
        "import base64\n",
        "import copy\n",
        "import json\n",
        "import pathlib\n",
        "import requests\n",
        "\n",
        "\n",
        "import PIL.Image\n",
        "import IPython.display\n",
        "from IPython.display import Markdown\n",
        "\n",
        "try:\n",
        "    # The SDK will automatically read it from the GOOGLE_API_KEY environment variable.\n",
        "    # In Colab get the key from Colab-secrets (\"🔑\" in the left panel).\n",
        "    import os\n",
        "    from google.colab import userdata\n",
        "\n",
        "    os.environ[\"GOOGLE_API_KEY\"] = userdata.get(\"GOOGLE_API_KEY\")\n",
        "except ImportError:\n",
        "    pass\n",
        "\n",
        "import google.generativeai as genai\n",
        "\n",
        "# Parse the arguments\n",
        "\n",
        "model = 'gemini-1.5-flash' # @param {isTemplate: true}\n",
        "contents_b64 = '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' # @param {isTemplate: true}\n",
        "generation_config_b64 = 'eyJ0ZW1wZXJhdHVyZSI6MiwidG9wX3AiOjAuOTUsInRvcF9rIjo0MCwibWF4X291dHB1dF90b2tlbnMiOjgxOTJ9' # @param {isTemplate: true}\n",
        "safety_settings_b64 = \"e30=\"  # @param {isTemplate: true}\n",
        "\n",
        "gais_contents = json.loads(base64.b64decode(contents_b64))\n",
        "\n",
        "generation_config = json.loads(base64.b64decode(generation_config_b64))\n",
        "safety_settings = json.loads(base64.b64decode(safety_settings_b64))\n",
        "\n",
        "stream = False\n",
        "\n",
        "# Convert and upload the files\n",
        "\n",
        "tempfiles = pathlib.Path(f\"tempfiles\")\n",
        "tempfiles.mkdir(parents=True, exist_ok=True)\n",
        "\n",
        "\n",
        "drive = None\n",
        "def upload_file_data(file_data, index):\n",
        "    \"\"\"Upload files to the Files API.\n",
        "\n",
        "    For each file, Google AI Studio either sent:\n",
        "    - a Google Drive ID,\n",
        "    - a URL,\n",
        "    - a file path, or\n",
        "    - The raw bytes (`inline_data`).\n",
        "\n",
        "    The API only understands `inline_data` or it's Files API.\n",
        "    This code, uploads files to the files API where the API can access them.\n",
        "    \"\"\"\n",
        "\n",
        "    mime_type = file_data[\"mime_type\"]\n",
        "    if drive_id := file_data.pop(\"drive_id\", None):\n",
        "        if drive is None:\n",
        "          from google.colab import drive\n",
        "          drive.mount(\"/gdrive\")\n",
        "\n",
        "        path = next(\n",
        "            pathlib.Path(f\"/gdrive/.shortcut-targets-by-id/{drive_id}\").glob(\"*\")\n",
        "        )\n",
        "        print(\"Uploading:\", str(path))\n",
        "        file_info = genai.upload_file(path=path, mime_type=mime_type)\n",
        "        file_data[\"file_uri\"] = file_info.uri\n",
        "        return\n",
        "\n",
        "    if url := file_data.pop(\"url\", None):\n",
        "        response = requests.get(url)\n",
        "        data = response.content\n",
        "        name = url.split(\"/\")[-1]\n",
        "        path = tempfiles / str(index)\n",
        "        path.write_bytes(data)\n",
        "        print(\"Uploading:\", url)\n",
        "        file_info = genai.upload_file(path, display_name=name, mime_type=mime_type)\n",
        "        file_data[\"file_uri\"] = file_info.uri\n",
        "        return\n",
        "\n",
        "    if name := file_data.get(\"filename\", None):\n",
        "        if not pathlib.Path(name).exists():\n",
        "            raise IOError(\n",
        "                f\"local file: `{name}` does not exist. You can upload files \"\n",
        "                'to Colab using the file manager (\"📁 Files\" in the left '\n",
        "                \"toolbar)\"\n",
        "            )\n",
        "        file_info = genai.upload_file(path, display_name=name, mime_type=mime_type)\n",
        "        file_data[\"file_uri\"] = file_info.uri\n",
        "        return\n",
        "\n",
        "    if \"inline_data\" in file_data:\n",
        "        return\n",
        "\n",
        "    raise ValueError(\"Either `drive_id`, `url` or `inline_data` must be provided.\")\n",
        "\n",
        "\n",
        "contents = copy.deepcopy(gais_contents)\n",
        "\n",
        "index = 0\n",
        "for content in contents:\n",
        "    for n, part in enumerate(content[\"parts\"]):\n",
        "        if file_data := part.get(\"file_data\", None):\n",
        "            upload_file_data(file_data, index)\n",
        "            index += 1\n",
        "\n",
        "import json\n",
        "print(json.dumps(contents, indent=4))"
      ]
    },
    {
      "cell_type": "markdown",
      "metadata": {
        "id": "E7zAD69vE92b"
      },
      "source": [
        "## Call `generate_content`"
      ]
    },
    {
      "cell_type": "code",
      "execution_count": null,
      "metadata": {
        "id": "LB2LxPmAB95V"
      },
      "outputs": [],
      "source": [
        "from IPython.display import display\n",
        "from IPython.display import Markdown\n",
        "\n",
        "# Call the model and print the response.\n",
        "gemini = genai.GenerativeModel(model_name=model)\n",
        "\n",
        "response = gemini.generate_content(\n",
        "    contents,\n",
        "    generation_config=generation_config,\n",
        "    safety_settings=safety_settings,\n",
        "    stream=stream,\n",
        ")\n",
        "\n",
        "display(Markdown(response.text))"
      ]
    },
    {
      "cell_type": "markdown",
      "metadata": {
        "id": "9c9d345e9868"
      },
      "source": [
        "<table class=\"tfo-notebook-buttons\" align=\"left\">\n",
        "  <td>\n",
        "    <a target=\"_blank\" href=\"https://ai.google.dev/gemini-api/docs\"><img src=\"https://ai.google.dev/static/site-assets/images/docs/notebook-site-button.png\" height=\"32\" width=\"32\" />Docs on ai.google.dev</a>\n",
        "  </td>\n",
        "  <td>\n",
        "    <a target=\"_blank\" href=\"https://github.com/google-gemini/cookbook/blob/main/quickstarts\"><img src=\"https://www.tensorflow.org/images/GitHub-Mark-32px.png\" />More notebooks in the Cookbook</a>\n",
        "  </td>\n",
        "</table>"
      ]
    },
    {
      "cell_type": "markdown",
      "metadata": {
        "id": "F91AeeGO1ncU"
      },
      "source": [
        "## [optional] Show the conversation\n",
        "\n",
        "This section displays the conversation received from Google AI Studio."
      ]
    },
    {
      "cell_type": "code",
      "execution_count": 3,
      "metadata": {
        "cellView": "form",
        "id": "yoL3p3KPylFW",
        "colab": {
          "base_uri": "https://localhost:8080/"
        },
        "outputId": "22f2eacf-7a0f-479e-e6cc-8910b08c0801"
      },
      "outputs": [
        {
          "output_type": "stream",
          "name": "stdout",
          "text": [
            "Role: user \n",
            "\n",
            "You are an expert regex string creator and understand how regex works. Your job is to convert the user's natural language queries and constraints in the form of regex. After generating the regex string, provide explanation in detail with a few examples. Then demonstrate its use in a python code.\\n\\nUser query:\\nGive me the regex equivalent of the following:\\nMy requirements are:\\n1. I want my string to have 2-63 characters.\\n2. The string should be alphanumeric and can contain - also.\\n3. The string must start as well as end with alphanumeric characters only. \n",
            "\n",
            "#!$\\n \n",
            "\n",
            "-------------------------------------------------------------------------------- \n",
            "\n",
            "Role: model \n",
            "\n",
            "## Regex for User's Requirements\\n\\nHere's the regex string based on the user's requirements:\\n\\n```regex\\n^[a-zA-Z0-9]{2,63}[a-zA-Z0-9]$\\n```\\n\\n### Explanation:\\n\\n1. **`^`**: This anchors the regex to the beginning of the string. This ensures the pattern matches only if it starts at the beginning.\\n\\n2. **`[a-zA-Z0-9]`**: This character class matches any alphanumeric character - both uppercase and lowercase letters, as well as numbers.\\n\\n3. **`{2,63}`**: This quantifier specifies that the preceding character class (`[a-zA-Z0-9]`) must occur between 2 and 63 times (inclusive).\\n\\n4. **`[a-zA-Z0-9]`**: This character class is again used to match an alphanumeric character. This part ensures the string ends with an alphanumeric character.\\n\\n5. **`$`**: This anchors the regex to the end of the string. It ensures the pattern matches only if it ends at the end of the input string.\\n\\n### Examples:\\n\\n| Input String | Matches | Explanation |\\n|---|---|---|\\n| **abc123** | ✅ | Matches - 6 alphanumeric characters, starts and ends with alphanumeric characters. |\\n| **Hello_world** | ❌ | Doesn't match - Contains an underscore character (`_`) which is not allowed. |\\n| **a** | ❌ | Doesn't match - String is less than 2 characters long. |\\n| **1234567890123456789012345678901234567890** | ❌ | Doesn't match - String is longer than 63 characters. |\\n| **123-abc** | ❌ | Doesn't match - Although within length range and containing allowed characters, it ends with `-` which is not allowed. |\\n\\n\\n### Python Code:\\n\\n```python\\nimport re\\n\\nregex_pattern = r\\\"^[a-zA-Z0-9]{2,63}[a-zA-Z0-9]$\\\"\\n\\ntest_strings = [\\\"abc123\\\", \\\"Hello_world\\\", \\\"a\\\", \\\"1234567890123456789012345678901234567890\\\", \\\"123-abc\\\", \\\"abc123-xyz\\\", \\\"abC123\\\"]\\n\\nfor string in test_strings:\\n  match = re.match(regex_pattern, string)\\n  if match:\\n    print(f\\\"'{string}' - Matches!\\\")\\n  else:\\n    print(f\\\"'{string}' - Doesn't Match\\\")\\n```\\n\\nThis code iterates through a list of strings and uses the `re.match` function to check if each string matches the defined regex pattern. The result is printed for each string, indicating whether it matched or not. \\n \n",
            "\n",
            "-------------------------------------------------------------------------------- \n",
            "\n"
          ]
        }
      ],
      "source": [
        "# @title Show the conversation, in colab.\n",
        "import mimetypes\n",
        "\n",
        "def show_file(file_data):\n",
        "    mime_type = file_data[\"mime_type\"]\n",
        "\n",
        "    if drive_id := file_data.get(\"drive_id\", None):\n",
        "        path = next(\n",
        "            pathlib.Path(f\"/gdrive/.shortcut-targets-by-id/{drive_id}\").glob(\"*\")\n",
        "        )\n",
        "        name = path\n",
        "        # data = path.read_bytes()\n",
        "        kwargs = {\"filename\": path}\n",
        "    elif url := file_data.get(\"url\", None):\n",
        "        name = url\n",
        "        kwargs = {\"url\": url}\n",
        "        # response = requests.get(url)\n",
        "        # data = response.content\n",
        "    elif data := file_data.get(\"inline_data\", None):\n",
        "        name = None\n",
        "        kwargs = {\"data\": data}\n",
        "    elif name := file_data.get(\"filename\", None):\n",
        "        if not pathlib.Path(name).exists():\n",
        "            raise IOError(\n",
        "                f\"local file: `{name}` does not exist. You can upload files to \"\n",
        "                'Colab using the file manager (\"📁 Files\"in the left toolbar)'\n",
        "            )\n",
        "    else:\n",
        "        raise ValueError(\"Either `drive_id`, `url` or `inline_data` must be provided.\")\n",
        "\n",
        "        print(f\"File:\\n    name: {name}\\n    mime_type: {mime_type}\\n\")\n",
        "        return\n",
        "\n",
        "    format = mimetypes.guess_extension(mime_type).strip(\".\")\n",
        "    if mime_type.startswith(\"image/\"):\n",
        "        image = IPython.display.Image(**kwargs, width=256)\n",
        "        IPython.display.display(image)\n",
        "        print()\n",
        "        return\n",
        "\n",
        "    if mime_type.startswith(\"audio/\"):\n",
        "        if len(data) < 2**12:\n",
        "            audio = IPython.display.Audio(**kwargs)\n",
        "            IPython.display.display(audio)\n",
        "            print()\n",
        "            return\n",
        "\n",
        "    if mime_type.startswith(\"video/\"):\n",
        "        if len(data) < 2**12:\n",
        "            audio = IPython.display.Video(**kwargs, mimetype=mime_type)\n",
        "            IPython.display.display(audio)\n",
        "            print()\n",
        "            return\n",
        "\n",
        "    print(f\"File:\\n    name: {name}\\n    mime_type: {mime_type}\\n\")\n",
        "\n",
        "\n",
        "for content in gais_contents:\n",
        "    if role := content.get(\"role\", None):\n",
        "        print(\"Role:\", role, \"\\n\")\n",
        "\n",
        "    for n, part in enumerate(content[\"parts\"]):\n",
        "        if text := part.get(\"text\", None):\n",
        "            print(text, \"\\n\")\n",
        "\n",
        "        elif file_data := part.get(\"file_data\", None):\n",
        "            show_file(file_data)\n",
        "\n",
        "    print(\"-\" * 80, \"\\n\")"
      ]
    }
  ],
  "metadata": {
    "colab": {
      "collapsed_sections": [
        "Tce3stUlHN0L"
      ],
      "name": "aistudio_gemini_prompt_freeform.ipynb",
      "provenance": []
    },
    "kernelspec": {
      "display_name": "Python 3",
      "name": "python3"
    }
  },
  "nbformat": 4,
  "nbformat_minor": 0
}